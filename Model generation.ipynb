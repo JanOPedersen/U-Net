{
 "metadata": {
  "language_info": {
   "codemirror_mode": {
    "name": "ipython",
    "version": 3
   },
   "file_extension": ".py",
   "mimetype": "text/x-python",
   "name": "python",
   "nbconvert_exporter": "python",
   "pygments_lexer": "ipython3",
   "version": "3.8.8"
  },
  "orig_nbformat": 2,
  "kernelspec": {
   "name": "python3",
   "display_name": "Python 3.8.8 64-bit ('base': conda)"
  },
  "interpreter": {
   "hash": "e6d389e96998f597cee0fc4b39534997436beb1ddafc62a05299fd5c50d2177c"
  }
 },
 "nbformat": 4,
 "nbformat_minor": 2,
 "cells": [
  {
   "source": [
    "In this notebook we attempt to reproduce the results from the paper \"U-Net: Convolutional Networks for Biomedical Image Segmentation\". We only focus on the ISBI 2012 dataset, as this was the only one we could get our hands on.\n",
    "\n",
    "We start by installing the necessary packages"
   ],
   "cell_type": "markdown",
   "metadata": {}
  },
  {
   "source": [
    "We start by installing the necessary packages"
   ],
   "cell_type": "markdown",
   "metadata": {}
  },
  {
   "cell_type": "code",
   "execution_count": 1,
   "metadata": {},
   "outputs": [
    {
     "output_type": "stream",
     "name": "stderr",
     "text": [
      "2021-06-27 11:23:19.632 | WARNING  | torch_snippets.torch_loader:<module>:233 - Not importing Lightning Report\n",
      "2021-06-27 11:23:21.859 | WARNING  | torch_snippets:<module>:13 - sklearn is not found. Skipping relevant imports from submodule `sklegos`\n",
      "Exception: No module named 'sklego'\n"
     ]
    }
   ],
   "source": [
    "import os\n",
    "from torch_snippets import *\n",
    "from torchvision import transforms\n",
    "from sklearn.model_selection import train_test_split\n",
    "from pathlib import PurePath\n",
    "import imgaug.augmenters as iaa\n",
    "import numpy as np\n",
    "from scipy import interpolate\n",
    "from scipy.stats import shapiro\n",
    "import matplotlib\n",
    "import math\n",
    "import torch \n",
    "from torch.autograd import Variable\n",
    "from torchsummary import summary\n",
    "device = 'cuda' if torch.cuda.is_available() else 'cpu'"
   ]
  },
  {
   "cell_type": "code",
   "execution_count": 2,
   "metadata": {},
   "outputs": [],
   "source": [
    "tfms = transforms.Compose([\n",
    "    transforms.ToTensor(),\n",
    "    transforms.Normalize([0.485, 0.456, 0.406], [0.229, 0.224, 0.225]) # imagenet\n",
    "])"
   ]
  },
  {
   "source": [
    "Define the Dataset class with its built in augmentation mechanism"
   ],
   "cell_type": "markdown",
   "metadata": {}
  },
  {
   "cell_type": "code",
   "execution_count": 3,
   "metadata": {},
   "outputs": [],
   "source": [
    "class SegData(Dataset):\n",
    "    def __init__(self, aug=None):\n",
    "        self.items = stems(f'isbi-datasets-master/data/deformed_images')\n",
    "        self.aug = aug\n",
    "    def __len__(self):\n",
    "        return len(self.items)\n",
    "    def __getitem__(self, ix):\n",
    "        name = PurePath(self.items[ix]).name[-5:]\n",
    "        image = read(f'isbi-datasets-master/data/deformed_images/train-volume{name}.jpg',1)\n",
    "        image = cv2.resize(image, (572,572))\n",
    "        mask = read(f'isbi-datasets-master/data/deformed_binary_labels/train-labels{name}.png')\n",
    "        mask = cv2.resize(mask, (572,572))\n",
    "        with open('isbi-datasets-master/data/wx/wx' + name + '.npy', 'rb') as f:\n",
    "            wx = np.load(f)\n",
    "        return image, mask, wx\n",
    "    def choose(self): return self[randint(len(self))]\n",
    "    def collate_fn(self, batch):\n",
    "        ims, masks, wxs = list(zip(*batch))\n",
    "        ims = torch.cat([tfms(im.copy()/255.)[None] for im in ims]).float().to(device)\n",
    "        ce_masks = torch.cat([torch.Tensor(mask[None]) for mask in masks]).long().to(device)\n",
    "        wxs = torch.cat([torch.Tensor(wx[None]) for wx in wxs]).float().to(device)\n",
    "        return ims, ce_masks, wxs"
   ]
  },
  {
   "source": [
    "Create the dataset instance"
   ],
   "cell_type": "markdown",
   "metadata": {}
  },
  {
   "cell_type": "code",
   "execution_count": 4,
   "metadata": {},
   "outputs": [
    {
     "output_type": "stream",
     "name": "stderr",
     "text": [
      "2021-06-27 11:23:31.152 | INFO     | torch_snippets.loader:stems:63 - 300 files found at isbi-datasets-master/data/deformed_images\n"
     ]
    }
   ],
   "source": [
    "trn_ds = SegData()\n",
    "trn_dl = DataLoader(trn_ds, batch_size=1, shuffle=True, collate_fn=trn_ds.collate_fn)"
   ]
  },
  {
   "source": [
    "Define the down and up convolutional blocks\n",
    "\n",
    "More importantly, however, unless you can explicitly justify it, I advise against using BatchNormalization with batch_size=1; there are strong theoretical reasons against it, and multiple publications have shown BN performance degrade for batch_size under 32, and severely for <=8. In a nutshell, batch statistics \"averaged\" over a single sample vary greatly sample-to-sample (high variance), and BN mechanisms don't work as intended."
   ],
   "cell_type": "markdown",
   "metadata": {}
  },
  {
   "cell_type": "code",
   "execution_count": 5,
   "metadata": {},
   "outputs": [],
   "source": [
    "def conv(in_channels, out_channels):\n",
    "    return nn.Sequential(\n",
    "        nn.Conv2d(in_channels, out_channels, kernel_size=3, stride=1, padding=0),\n",
    "        #nn.BatchNorm2d(out_channels),\n",
    "        nn.ReLU(inplace=True)\n",
    "    )"
   ]
  },
  {
   "cell_type": "code",
   "execution_count": 6,
   "metadata": {},
   "outputs": [],
   "source": [
    "def up_conv(in_channels, out_channels):\n",
    "    return nn.Sequential(\n",
    "        nn.ConvTranspose2d(in_channels, out_channels, kernel_size=2, stride=2),\n",
    "        nn.ReLU(inplace=True)\n",
    "    )"
   ]
  },
  {
   "source": [
    "Now, the fun starts when we define the network architecture. The notation convXY means layer X and conv number Y in that layer. Where a layer is the level in the U-Net drawing figure 1 in the paper.\n",
    "\n",
    "Why does the nn.init.normal_(...) function divide the fan_out with 2 before generating the Gaussian distributed real numbers? Actually in the paper the quantity sqrt(2/N) is mentioned:\n",
    "\n",
    "It can be seen on the histogram later that removing the self._init_weights() below results in uniformly random numbers and not Gaussian."
   ],
   "cell_type": "markdown",
   "metadata": {}
  },
  {
   "cell_type": "code",
   "execution_count": 7,
   "metadata": {},
   "outputs": [],
   "source": [
    "class UNet(nn.Module):\n",
    "    def __init__(self, out_channels=2):\n",
    "        super().__init__()\n",
    "\n",
    "        self.conv11 = conv(3, 64)\n",
    "        self.conv12 = conv(64, 64)\n",
    "\n",
    "        self.conv21 = conv(64, 128)\n",
    "        self.conv22 = conv(128, 128)\n",
    "\n",
    "        self.conv31 = conv(128, 256)\n",
    "        self.conv32 = conv(256, 256)\n",
    "\n",
    "        self.conv41 = conv(256, 512)\n",
    "        self.conv42 = conv(512, 512)\n",
    "\n",
    "        self.conv51 = conv(512, 1024)\n",
    "        self.conv52 = conv(1024, 1024)\n",
    "\n",
    "        self.up_conv5 = up_conv(1024, 512)\n",
    "        self.conv43 = conv(512 + 512, 512)\n",
    "        self.conv44 = conv(512, 512)\n",
    "\n",
    "        self.up_conv4 = up_conv(512, 256)\n",
    "        self.conv33 = conv(256 + 256, 256)\n",
    "        self.conv34 = conv(256, 256)\n",
    "\n",
    "        self.up_conv3 = up_conv(256, 128)\n",
    "        self.conv23 = conv(128 + 128, 128)\n",
    "        self.conv24 = conv(128, 128)\n",
    "\n",
    "        self.up_conv2 = up_conv(128, 64)\n",
    "        self.conv13 = conv(64 + 64, 64)\n",
    "        self.conv14 = conv(64, 64)\n",
    "        self.conv15 = nn.Conv2d(64, out_channels, kernel_size=1)\n",
    "\n",
    "        self.maxPool = nn.MaxPool2d(2)\n",
    "\n",
    "        self.crop1 = torchvision.transforms.CenterCrop((392,392))\n",
    "        self.crop2 = torchvision.transforms.CenterCrop((200,200))\n",
    "        self.crop3 = torchvision.transforms.CenterCrop((104,104))\n",
    "        self.crop4 = torchvision.transforms.CenterCrop((56,56))\n",
    "\n",
    "        self.ReLU = nn.ReLU(inplace=True)\n",
    "\n",
    "        self._init_weights()\n",
    "\n",
    "    def _init_weights(self):\n",
    "        for m in self.modules():\n",
    "            if type(m) in {\n",
    "                nn.Linear,\n",
    "                nn.Conv2d,\n",
    "                nn.ConvTranspose2d\n",
    "            }:\n",
    "                fan_in, fan_out = nn.init._calculate_fan_in_and_fan_out(m.weight.data)\n",
    "                std = 1 / math.sqrt(fan_out / 2)\n",
    "                nn.init.normal_(m.weight.data, 0, std)\n",
    "                if m.bias is not None:\n",
    "                    #nn.init.uniform_(m.bias, -std, std)\n",
    "                    nn.init.normal_(m.weight.data, 0, std)\n",
    "\n",
    "    def forward(self, x):               # 572*572\n",
    "\n",
    "        x = self.conv11(x)              # 570*570\n",
    "        block1 = self.conv12(x)         # 568*568\n",
    "        x = self.maxPool(block1)        # 284*284\n",
    "       \n",
    "        x = self.conv21(x)              # 282*282\n",
    "\n",
    "        block2 = self.conv22(x)         # 280*280\n",
    "        x = self.maxPool(block2)        # 140*140\n",
    "       \n",
    "        x = self.conv31(x)              # 138 * 138\n",
    "        block3 = self.conv32(x)         # 136 * 136\n",
    "        x = self.maxPool(block3)        # 68 * 68\n",
    "\n",
    "        x = self.conv41(x)              # 66*66\n",
    "        block4 = self.conv42(x)         # 64*64 \n",
    "        x = self.maxPool(block4)        # 32*32\n",
    "\n",
    "        x = self.conv51(x)              # 30*30\n",
    "        x = self.conv52(x)              # 28*28\n",
    "        x = self.up_conv5(x)            # 56*56\n",
    "\n",
    "        block4 = self.crop4(block4)     # 56*56\n",
    "        x = torch.cat([x, block4], dim=1) \n",
    "        x = self.conv43(x)              # 54*54\n",
    "        x = self.conv44(x)              # 52*52\n",
    "        x = self.up_conv4(x)            # 104*104\n",
    "\n",
    "        block3 = self.crop3(block3)     # 104*104\n",
    "        x = torch.cat([x, block3], dim=1) \n",
    "        x = self.conv33(x)              # 102*102\n",
    "        x = self.conv34(x)              # 100*100\n",
    "        x = self.up_conv3(x)            # 200*200\n",
    "\n",
    "        block2 = self.crop2(block2)     # 200*200\n",
    "        x = torch.cat([x, block2], dim=1) \n",
    "        x = self.conv23(x)              # 198*198\n",
    "        x = self.conv24(x)              # 196*196\n",
    "        x = self.up_conv2(x)            # 392*392\n",
    "        \n",
    "        block1 = self.crop1(block1)     # 392*392\n",
    "        x = torch.cat([x, block1], dim=1) \n",
    "        x = self.conv13(x)              # 390*390\n",
    "        x = self.conv14(x)              # 388*388\n",
    "        x = self.conv15(x)              # 388*388\n",
    "        x = self.ReLU(x)                # 388*388\n",
    "        \n",
    "        return x"
   ]
  },
  {
   "source": [
    "Now we would like to know the input and mask tensors a bit better so we can appreciate the data processing that the model does"
   ],
   "cell_type": "markdown",
   "metadata": {}
  },
  {
   "cell_type": "code",
   "execution_count": 10,
   "metadata": {},
   "outputs": [
    {
     "output_type": "stream",
     "name": "stdout",
     "text": [
      "----------------------------------------------------------------\n        Layer (type)               Output Shape         Param #\n================================================================\n            Conv2d-1         [-1, 64, 570, 570]           1,792\n              ReLU-2         [-1, 64, 570, 570]               0\n            Conv2d-3         [-1, 64, 568, 568]          36,928\n              ReLU-4         [-1, 64, 568, 568]               0\n         MaxPool2d-5         [-1, 64, 284, 284]               0\n            Conv2d-6        [-1, 128, 282, 282]          73,856\n              ReLU-7        [-1, 128, 282, 282]               0\n            Conv2d-8        [-1, 128, 280, 280]         147,584\n              ReLU-9        [-1, 128, 280, 280]               0\n        MaxPool2d-10        [-1, 128, 140, 140]               0\n           Conv2d-11        [-1, 256, 138, 138]         295,168\n             ReLU-12        [-1, 256, 138, 138]               0\n           Conv2d-13        [-1, 256, 136, 136]         590,080\n             ReLU-14        [-1, 256, 136, 136]               0\n        MaxPool2d-15          [-1, 256, 68, 68]               0\n           Conv2d-16          [-1, 512, 66, 66]       1,180,160\n             ReLU-17          [-1, 512, 66, 66]               0\n           Conv2d-18          [-1, 512, 64, 64]       2,359,808\n             ReLU-19          [-1, 512, 64, 64]               0\n        MaxPool2d-20          [-1, 512, 32, 32]               0\n           Conv2d-21         [-1, 1024, 30, 30]       4,719,616\n             ReLU-22         [-1, 1024, 30, 30]               0\n           Conv2d-23         [-1, 1024, 28, 28]       9,438,208\n             ReLU-24         [-1, 1024, 28, 28]               0\n  ConvTranspose2d-25          [-1, 512, 56, 56]       2,097,664\n             ReLU-26          [-1, 512, 56, 56]               0\n       CenterCrop-27          [-1, 512, 56, 56]               0\n           Conv2d-28          [-1, 512, 54, 54]       4,719,104\n             ReLU-29          [-1, 512, 54, 54]               0\n           Conv2d-30          [-1, 512, 52, 52]       2,359,808\n             ReLU-31          [-1, 512, 52, 52]               0\n  ConvTranspose2d-32        [-1, 256, 104, 104]         524,544\n             ReLU-33        [-1, 256, 104, 104]               0\n       CenterCrop-34        [-1, 256, 104, 104]               0\n           Conv2d-35        [-1, 256, 102, 102]       1,179,904\n             ReLU-36        [-1, 256, 102, 102]               0\n           Conv2d-37        [-1, 256, 100, 100]         590,080\n             ReLU-38        [-1, 256, 100, 100]               0\n  ConvTranspose2d-39        [-1, 128, 200, 200]         131,200\n             ReLU-40        [-1, 128, 200, 200]               0\n       CenterCrop-41        [-1, 128, 200, 200]               0\n           Conv2d-42        [-1, 128, 198, 198]         295,040\n             ReLU-43        [-1, 128, 198, 198]               0\n           Conv2d-44        [-1, 128, 196, 196]         147,584\n             ReLU-45        [-1, 128, 196, 196]               0\n  ConvTranspose2d-46         [-1, 64, 392, 392]          32,832\n             ReLU-47         [-1, 64, 392, 392]               0\n       CenterCrop-48         [-1, 64, 392, 392]               0\n           Conv2d-49         [-1, 64, 390, 390]          73,792\n             ReLU-50         [-1, 64, 390, 390]               0\n           Conv2d-51         [-1, 64, 388, 388]          36,928\n             ReLU-52         [-1, 64, 388, 388]               0\n           Conv2d-53          [-1, 2, 388, 388]             130\n             ReLU-54          [-1, 2, 388, 388]               0\n================================================================\nTotal params: 31,031,810\nTrainable params: 31,031,810\nNon-trainable params: 0\n----------------------------------------------------------------\nInput size (MB): 3.74\nForward/backward pass size (MB): 2269.09\nParams size (MB): 118.38\nEstimated Total Size (MB): 2391.22\n----------------------------------------------------------------\n"
     ]
    }
   ],
   "source": [
    "model = UNet().to(device)\n",
    "summary(model, (3,572,572));"
   ]
  },
  {
   "source": [
    "We now venture into defining the loss function from the paper. Here p is the predicted value (ground truth) and y is the NN output. d is the distance transform that belongs to the input image and that was defined in the data preparation stage.\n",
    "\n",
    "First we read the wc map from file and center crop it to 388*388 size to fit the NN output. The cropping could have been done in the data preparation stage. We also init the hyper parameters w0 and sigma that are used to define the loss function."
   ],
   "cell_type": "markdown",
   "metadata": {}
  },
  {
   "cell_type": "code",
   "execution_count": null,
   "metadata": {},
   "outputs": [],
   "source": [
    "with open('isbi-datasets-master\\data\\wc.npy', 'rb') as f:\n",
    "    wc  = torch.from_numpy(np.load(f)).to(device)\n",
    "    wc0 = torchvision.transforms.CenterCrop((388,388))(wc[:,:,0])\n",
    "    wc1 = torchvision.transforms.CenterCrop((388,388))(wc[:,:,1])\n",
    "    wc = torch.cat((wc0.unsqueeze(0),wc1.unsqueeze(0)),0).unsqueeze(0)\n",
    "\n",
    "w0    = 10\n",
    "sigma = 5\n",
    "beta  = 1 # exp(base) of exponential in softmax function\n",
    "crop  = torchvision.transforms.CenterCrop((388,388))"
   ]
  },
  {
   "cell_type": "code",
   "execution_count": null,
   "metadata": {},
   "outputs": [],
   "source": [
    "def UnetLoss(outputs, targets, weights):\n",
    "    num_examples = targets.shape[1] * targets.shape[2]\n",
    "    targets = torch.unsqueeze(targets,1)\n",
    "    outputs = outputs - torch.logsumexp(outputs,dim=1, keepdim=True)\n",
    "    outputs = torch.gather(outputs,1,targets)[0,0,:,:]\n",
    "    weights = weights + torch.gather(wc,2,targets)[0,0,:,:]\n",
    "    #weights = torch.gather(wc,2,targets)[0,0,:,:]\n",
    "    #weights = torch.full((388, 388), 1, device=device) # DEBUG\n",
    "    outputs = outputs * weights\n",
    "    return - torch.sum(outputs)/num_examples"
   ]
  },
  {
   "cell_type": "code",
   "execution_count": null,
   "metadata": {},
   "outputs": [],
   "source": [
    "def MyCrossEntropyLoss(outputs, targets):\n",
    "    num_examples = targets.shape[1] * targets.shape[2]\n",
    "    targets = torch.unsqueeze(targets,1)\n",
    "    outputs = outputs - torch.logsumexp(outputs,dim=1, keepdim=True)\n",
    "    outputs = torch.gather(outputs,1,targets)[0,0,:,:]\n",
    "    return - torch.sum(outputs)/num_examples"
   ]
  },
  {
   "source": [
    "Before entering the training loop let us do some sanity tests on the loss function. On an output that matches the mask we would like minimum loss, on an output that is the negation (255 - y) of the mask we would like maximum loss. Anything in between should give loss between these values.\n",
    "\n",
    "In summary we get minimum loss 0 and maximum loss ~ 1258570. The actual loss for the given input is ~ 629104. Which is consistent."
   ],
   "cell_type": "markdown",
   "metadata": {}
  },
  {
   "cell_type": "code",
   "execution_count": null,
   "metadata": {},
   "outputs": [],
   "source": [
    "#maskAsOutMax = torch.cat((mask / 255, (255 - mask) / 255), 2)\n",
    "#maskAsOutMin = torch.cat(((255 - mask) / 255, mask / 255), 2)\n",
    "#maxLoss = UnetLoss(mask,maskAsOutMax,dist_transform)\n",
    "#print(maxLoss)\n",
    "#minLoss = UnetLoss(mask,maskAsOutMin,dist_transform)\n",
    "#print(minLoss)"
   ]
  },
  {
   "source": [
    "Before the training loop we define the what is inside it:"
   ],
   "cell_type": "markdown",
   "metadata": {}
  },
  {
   "cell_type": "code",
   "execution_count": null,
   "metadata": {},
   "outputs": [],
   "source": [
    "def train_batch(model, data, optimizer, criterion):\n",
    "    model.train()\n",
    "    im, mask, weights = data\n",
    "    out  = model(im)\n",
    "    mask = crop(mask)\n",
    "    mask = torch.unsqueeze(torch.where(mask[0,:,:] == 0, 0, 1), 0)\n",
    "    weights = crop(weights[0])\n",
    "    optimizer.zero_grad()\n",
    "    loss = criterion(out, mask, weights)\n",
    "    loss.backward()\n",
    "    optimizer.step()\n",
    "    return loss.item()"
   ]
  },
  {
   "cell_type": "code",
   "execution_count": null,
   "metadata": {},
   "outputs": [],
   "source": [
    "model = UNet().to(device)\n",
    "#criterion = nn.CrossEntropyLoss()\n",
    "criterion = UnetLoss\n",
    "#criterion = MyCrossEntropyLoss\n",
    "optimizer = optim.SGD(model.parameters(), lr=1e-3, momentum=0.99)\n",
    "n_epochs = 50\n",
    "log = Report(n_epochs)\n",
    "train_losses = []\n",
    "\n",
    "for ex in range(n_epochs):\n",
    "    N = len(trn_dl)\n",
    "    train_epoch_losses = []\n",
    "    for bx, data in enumerate(trn_dl):\n",
    "        loss = train_batch(model, data, optimizer, criterion)\n",
    "        train_epoch_losses.append(loss) \n",
    "        log.record(ex + (bx+1)/N, trn_loss=loss, trn_acc=1.0, end='\\r')\n",
    "        #if bx == 100:\n",
    "        #    break\n",
    "    train_epoch_loss = np.array(train_epoch_losses).mean()\n",
    "\n",
    "    train_losses.append(train_epoch_loss)\n",
    "    log.report_avgs(ex+1)\n",
    "\n",
    "print('Training complete')"
   ]
  },
  {
   "cell_type": "code",
   "execution_count": null,
   "metadata": {},
   "outputs": [],
   "source": [
    "log.plot_epochs(['trn_loss','val_loss'])"
   ]
  },
  {
   "cell_type": "code",
   "execution_count": null,
   "metadata": {},
   "outputs": [],
   "source": [
    "with open('train_epoch_losses_20_epoch_weighted_CE_loss.npy', 'wb') as f:\n",
    "    np.save(f, train_losses)"
   ]
  },
  {
   "source": [
    "Read the losses so that we can display the,"
   ],
   "cell_type": "markdown",
   "metadata": {}
  },
  {
   "cell_type": "code",
   "execution_count": null,
   "metadata": {},
   "outputs": [],
   "source": [
    "with open('train_epoch_losses_20_epoch_weighted_CE_loss.npy', 'rb') as f:\n",
    "        train_losses = np.load(f)"
   ]
  },
  {
   "cell_type": "code",
   "execution_count": null,
   "metadata": {},
   "outputs": [],
   "source": [
    "epochs = np.arange(20)+1\n",
    "import matplotlib.ticker as mtick\n",
    "import matplotlib.pyplot as plt\n",
    "import matplotlib.ticker as mticker\n",
    "%matplotlib inline\n",
    "plt.subplot(211)\n",
    "plt.plot(epochs, train_losses, 'bo', label='Training loss')\n",
    "plt.gca().xaxis.set_major_locator(mticker.MultipleLocator(1))\n",
    "plt.title('Training loss with 0.01 learning rate')\n",
    "plt.xlabel('Epochs')\n",
    "plt.ylabel('Loss')\n",
    "plt.legend()\n",
    "plt.grid('off')\n",
    "plt.show()"
   ]
  },
  {
   "cell_type": "code",
   "execution_count": null,
   "metadata": {},
   "outputs": [],
   "source": [
    "torch.save(model, '20_epoch_weighted_CE_loss.pt')"
   ]
  },
  {
   "cell_type": "code",
   "execution_count": null,
   "metadata": {},
   "outputs": [],
   "source": [
    "im, mask, dist_transform = next(iter(trn_dl))\n",
    "out = model(im)"
   ]
  },
  {
   "source": [
    "Lets display, in order: The input image, the mask (ground truth) and the output image"
   ],
   "cell_type": "markdown",
   "metadata": {}
  },
  {
   "cell_type": "code",
   "execution_count": null,
   "metadata": {},
   "outputs": [],
   "source": [
    "#im, mask, dist_transform = next(iter(trn_dl))\n",
    "\n",
    "mask0 = torchvision.transforms.CenterCrop((388,388))(mask)\n",
    "mask0 = torch.moveaxis(mask0, 0, 2)\n",
    "\n",
    "im = crop(im)\n",
    "plt.imshow(im[0].permute(1,2,0).detach().cpu()[:,:,0])\n",
    "plt.show()\n",
    "mask0 = torch.cat((mask0, mask0, mask0), 2)\n",
    "plt.imshow(mask0.detach().cpu())\n",
    "plt.show()\n",
    "\n",
    "out1=out[0,:,:,:]\n",
    "white = torch.full((1, 388, 388), 255,device=device)\n",
    "out1 = torch.cat((white, out1),0)\n",
    "out1 = out1.permute(1,2,0)\n",
    "plt.imshow(out1.detach().cpu())\n",
    "plt.show()"
   ]
  }
 ]
}